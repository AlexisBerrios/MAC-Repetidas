{
  "nbformat": 4,
  "nbformat_minor": 0,
  "metadata": {
    "colab": {
      "provenance": []
    },
    "kernelspec": {
      "name": "python3",
      "display_name": "Python 3"
    },
    "language_info": {
      "name": "python"
    }
  },
  "cells": [
    {
      "cell_type": "code",
      "execution_count": 3,
      "metadata": {
        "colab": {
          "base_uri": "https://localhost:8080/"
        },
        "id": "KJXgjRSlyZxB",
        "outputId": "1a867aa4-acd4-43ee-dae6-b9b922d0a960"
      },
      "outputs": [
        {
          "output_type": "stream",
          "name": "stdout",
          "text": [
            "Mac repetida 5C:60:BA:35:36:B8\n",
            "Mac repetida 5C:60:BA:35:53:48\n",
            "Se encontraron: 2 MAC, repetidas\n"
          ]
        }
      ],
      "source": [
        "#funcion reciba el txt con las MAC Address de los equipos\n",
        "\n",
        "def cargaMac(datos): #separa por espacio\n",
        "    archivo = open(datos, 'r')\n",
        "    Macs = archivo.read()    \n",
        "    #print(\"Las mac son: \\n\",Macs)\n",
        "    return Macs\n",
        "\n",
        "tablaMac1=cargaMac('Mac1.txt')\n",
        "tablaMac2=cargaMac('Mac2.txt')\n",
        "\n",
        "##funcionn encuentre las mac que se repiten entre 2 .txt con multiples MAC-Address\n",
        "def macRepetidas(tablaMac1,tablaMac2): \n",
        "  numRepetidas=0                \n",
        "  for e in tablaMac1.split():\n",
        "    #print(\"e es:\",e)\n",
        "    if(e in tablaMac2.split()):\n",
        "      print(\"Mac repetida\",e)\n",
        "      numRepetidas+=1\n",
        "  \n",
        "  return numRepetidas\n",
        "\n",
        "numMac=macRepetidas(tablaMac1,tablaMac2)\n",
        "print(\"Se encontraron:\",numMac,\"MAC, repetidas\")"
      ]
    }
  ]
}